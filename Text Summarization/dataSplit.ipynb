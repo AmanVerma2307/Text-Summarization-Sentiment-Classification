{
 "cells": [
  {
   "cell_type": "code",
   "execution_count": 1,
   "metadata": {},
   "outputs": [
    {
     "name": "stderr",
     "output_type": "stream",
     "text": [
      "c:\\users\\asus\\anaconda3\\envs\\gpu_torch_3\\lib\\site-packages\\tqdm\\auto.py:21: TqdmWarning: IProgress not found. Please update jupyter and ipywidgets. See https://ipywidgets.readthedocs.io/en/stable/user_install.html\n",
      "  from .autonotebook import tqdm as notebook_tqdm\n"
     ]
    }
   ],
   "source": [
    "###### Importing Libraries\n",
    "import os\n",
    "import torch\n",
    "import torchtext\n",
    "import nltk\n",
    "import spacy\n",
    "import numpy as np\n",
    "import pandas as pd\n",
    "from torchtext import data\n",
    "from sklearn.model_selection import train_test_split"
   ]
  },
  {
   "cell_type": "code",
   "execution_count": 2,
   "metadata": {},
   "outputs": [],
   "source": [
    "###### Data Split\n",
    "csv_op = pd.read_csv('./Reviews_q2_main.csv',index_col=False)\n",
    "csv_train, csv_test = train_test_split(csv_op,train_size=0.8,random_state=244)\n",
    "csv_val, csv_test = train_test_split(csv_test,train_size=0.75,random_state=244)\n",
    "\n",
    "######  Writing CSV files\n",
    "csv_train.to_csv('./train.csv')\n",
    "csv_val.to_csv('./val.csv')\n",
    "csv_test.to_csv('./test.csv')"
   ]
  },
  {
   "cell_type": "code",
   "execution_count": 6,
   "metadata": {},
   "outputs": [
    {
     "name": "stdout",
     "output_type": "stream",
     "text": [
      "['<pad>' '<unk>' '<user>' '.' ':' 'rt' ',' '<repeat>' '<hashtag>'\n",
      " '<number>']\n"
     ]
    }
   ],
   "source": [
    "vocab,embeddings = [],[]\n",
    "with open('./glove.twitter.27B/glove.twitter.27B.100d.txt','rt') as fi:\n",
    "    full_content = fi.read().strip().split('\\n')\n",
    "for i in range(len(full_content)):\n",
    "    i_word = full_content[i].split(' ')[0]\n",
    "    #i_embeddings = [float(val) for val in full_content[i].split(' ')[1:]]\n",
    "    vocab.append(i_word)\n",
    "    #embeddings.append(i_embeddings)\n",
    "\n",
    "vocab_npa = np.array(vocab)\n",
    "embs_npa = np.array(embeddings)\n",
    "\n",
    "vocab_npa = np.insert(vocab_npa, 0, '<pad>')\n",
    "vocab_npa = np.insert(vocab_npa, 1, '<unk>')\n",
    "print(vocab_npa[:10])"
   ]
  },
  {
   "cell_type": "code",
   "execution_count": 7,
   "metadata": {},
   "outputs": [],
   "source": [
    "def tokens2indices(tokens,pad_len):\n",
    "\n",
    "    word2idx = {term:idx for idx,term in enumerate(vocab_npa)}\n",
    "    idx2word = {idx:word for word,idx in word2idx.items()}\n",
    "    \n",
    "    ##### Padding\n",
    "    missing_len = abs(pad_len - len(tokens))\n",
    "\n",
    "    if(len(tokens) >= pad_len):\n",
    "        tokens = tokens[:pad_len]\n",
    "    else:\n",
    "        for _ in range(pad_len - len(tokens)):\n",
    "            tokens.append('<pad>')\n",
    "\n",
    "    ##### Index conversion\n",
    "    for idx in range(len(tokens)):\n",
    "\n",
    "        if tokens[idx] not in word2idx:\n",
    "            tokens[idx] = word2idx['<unk>']\n",
    "\n",
    "        else:\n",
    "            tokens[idx] = word2idx[tokens[idx]]\n",
    "\n",
    "    return torch.Tensor(tokens).long(), missing_len"
   ]
  },
  {
   "cell_type": "code",
   "execution_count": 8,
   "metadata": {},
   "outputs": [
    {
     "name": "stdout",
     "output_type": "stream",
     "text": [
      "['@aminbaybon', 'HEllllllllo', 'everybody', 'i', 'wish', 'you', 'a', 'good', '#day']\n"
     ]
    }
   ],
   "source": [
    "tweet = '@aminbaybon HEllllllllo everybody i wish you a good #day'\n",
    "tokenizer = nltk.tokenize.TweetTokenizer()\n",
    "tweet_tokens = tokenizer.tokenize(tweet)\n",
    "print(tweet_tokens)"
   ]
  },
  {
   "cell_type": "code",
   "execution_count": 11,
   "metadata": {},
   "outputs": [
    {
     "name": "stdout",
     "output_type": "stream",
     "text": [
      "torch.Size([50])\n"
     ]
    }
   ],
   "source": [
    "a,b = tokens2indices(tweet_tokens,50)"
   ]
  }
 ],
 "metadata": {
  "kernelspec": {
   "display_name": "gpu_torch_3",
   "language": "python",
   "name": "python3"
  },
  "language_info": {
   "codemirror_mode": {
    "name": "ipython",
    "version": 3
   },
   "file_extension": ".py",
   "mimetype": "text/x-python",
   "name": "python",
   "nbconvert_exporter": "python",
   "pygments_lexer": "ipython3",
   "version": "3.8.19"
  }
 },
 "nbformat": 4,
 "nbformat_minor": 2
}
